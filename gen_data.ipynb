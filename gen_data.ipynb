{
 "cells": [
  {
   "cell_type": "code",
   "execution_count": 1,
   "metadata": {},
   "outputs": [],
   "source": [
    "from gen_data.data_generation import generate_random_data, generate_clique_data, save_graphs, MAX_NODES, MIN_NODES\n",
    "import numpy as np"
   ]
  },
  {
   "cell_type": "code",
   "execution_count": 2,
   "metadata": {},
   "outputs": [],
   "source": [
    "TRAIN_RANDOM = 10000\n",
    "TEST_RANDOM = 2000\n",
    "\n",
    "TRAIN_CLIQUE = 2000\n",
    "TEST_CLIQUE = 2000\n",
    "\n",
    "SPARSITIES = list(np.logspace(-2, -1, num=10))\n",
    "SIZES = list(map(int, np.linspace(MIN_NODES, MAX_NODES, num=50)))"
   ]
  },
  {
   "cell_type": "code",
   "execution_count": 7,
   "metadata": {},
   "outputs": [],
   "source": [
    "train_graphs = generate_random_data(TRAIN_RANDOM, SIZES, SPARSITIES)"
   ]
  },
  {
   "cell_type": "code",
   "execution_count": 8,
   "metadata": {},
   "outputs": [
    {
     "name": "stdout",
     "output_type": "stream",
     "text": [
      "Completed graph with index 0\n",
      "Completed graph with index 100\n",
      "Completed graph with index 200\n",
      "Completed graph with index 300\n",
      "Completed graph with index 400\n",
      "Completed graph with index 500\n",
      "Completed graph with index 600\n",
      "Completed graph with index 700\n",
      "Completed graph with index 800\n",
      "Completed graph with index 900\n",
      "Completed graph with index 1000\n",
      "Completed graph with index 1100\n",
      "Completed graph with index 1200\n",
      "Completed graph with index 1300\n",
      "Completed graph with index 1400\n",
      "Completed graph with index 1500\n",
      "Completed graph with index 1600\n",
      "Completed graph with index 1700\n",
      "Completed graph with index 1800\n",
      "Completed graph with index 1900\n"
     ]
    }
   ],
   "source": [
    "save_graphs(train_graphs, \"train_random\")"
   ]
  },
  {
   "cell_type": "code",
   "execution_count": null,
   "metadata": {},
   "outputs": [],
   "source": [
    "test_graphs = generate_random_data(TEST_RANDOM, SIZES, SPARSITIES)"
   ]
  },
  {
   "cell_type": "code",
   "execution_count": null,
   "metadata": {},
   "outputs": [],
   "source": [
    "save_graphs(test_graphs, \"train_random\")"
   ]
  },
  {
   "cell_type": "code",
   "execution_count": 7,
   "metadata": {},
   "outputs": [],
   "source": [
    "train_graphs = generate_clique_data(TRAIN_CLIQUE, SIZES, SPARSITIES)"
   ]
  },
  {
   "cell_type": "code",
   "execution_count": 6,
   "metadata": {},
   "outputs": [
    {
     "name": "stdout",
     "output_type": "stream",
     "text": [
      "Completed graph with index 0\n",
      "Completed graph with index 100\n",
      "Completed graph with index 200\n",
      "Completed graph with index 300\n",
      "Completed graph with index 400\n",
      "Completed graph with index 500\n",
      "Completed graph with index 600\n",
      "Completed graph with index 700\n",
      "Completed graph with index 800\n",
      "Completed graph with index 900\n",
      "Completed graph with index 1000\n",
      "Completed graph with index 1100\n",
      "Completed graph with index 1200\n",
      "Completed graph with index 1300\n",
      "Completed graph with index 1400\n",
      "Completed graph with index 1500\n",
      "Completed graph with index 1600\n",
      "Completed graph with index 1700\n",
      "Completed graph with index 1800\n",
      "Completed graph with index 1900\n"
     ]
    }
   ],
   "source": [
    "save_graphs(train_graphs, \"train_clique5\")"
   ]
  },
  {
   "cell_type": "code",
   "execution_count": 5,
   "metadata": {},
   "outputs": [],
   "source": [
    "test_graphs = generate_clique_data(TEST_CLIQUE, SIZES, SPARSITIES)"
   ]
  },
  {
   "cell_type": "code",
   "execution_count": 6,
   "metadata": {},
   "outputs": [
    {
     "name": "stdout",
     "output_type": "stream",
     "text": [
      "Completed graph with index 0\n",
      "Completed graph with index 100\n",
      "Completed graph with index 200\n",
      "Completed graph with index 300\n",
      "Completed graph with index 400\n",
      "Completed graph with index 500\n",
      "Completed graph with index 600\n",
      "Completed graph with index 700\n",
      "Completed graph with index 800\n",
      "Completed graph with index 900\n",
      "Completed graph with index 1000\n",
      "Completed graph with index 1100\n",
      "Completed graph with index 1200\n",
      "Completed graph with index 1300\n",
      "Completed graph with index 1400\n",
      "Completed graph with index 1500\n",
      "Completed graph with index 1600\n",
      "Completed graph with index 1700\n",
      "Completed graph with index 1800\n",
      "Completed graph with index 1900\n"
     ]
    }
   ],
   "source": [
    "save_graphs(test_graphs, \"test_clique\")"
   ]
  },
  {
   "cell_type": "code",
   "execution_count": null,
   "metadata": {},
   "outputs": [],
   "source": []
  }
 ],
 "metadata": {
  "kernelspec": {
   "display_name": "Python 3",
   "language": "python",
   "name": "python3"
  },
  "language_info": {
   "codemirror_mode": {
    "name": "ipython",
    "version": 3
   },
   "file_extension": ".py",
   "mimetype": "text/x-python",
   "name": "python",
   "nbconvert_exporter": "python",
   "pygments_lexer": "ipython3",
   "version": "3.8.10"
  }
 },
 "nbformat": 4,
 "nbformat_minor": 2
}
