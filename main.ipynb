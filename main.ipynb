{
 "cells": [
  {
   "cell_type": "code",
   "execution_count": null,
   "metadata": {},
   "outputs": [],
   "source": [
    "import torch\n",
    "import torch.nn as nn\n",
    "from torch.nn import LSTM\n",
    "import matplotlib.pyplot as plt"
   ]
  },
  {
   "cell_type": "code",
   "execution_count": null,
   "metadata": {},
   "outputs": [],
   "source": [
    "class ColoringNN(nn.LSTM):\n",
    "    def __init__(self, in_size : int, out_size : int,\n",
    "                  hidden_size : int, num_layers : int, num_nodes : int, batch_first : bool):\n",
    "        super(ColoringNN, self).__init__()\n",
    "\n",
    "        self.in_size = in_size\n",
    "        self.out_size = out_size\n",
    "        self.hidden_size = hidden_size\n",
    "        self.num_layers = num_layers\n",
    "        self.num_nodes = num_nodes\n",
    "\n",
    "        self.layers = [\n",
    "            LSTM(\n",
    "                input_size = in_size,\n",
    "                hidden_size=hidden_size,\n",
    "                num_layers=num_layers,\n",
    "                batch_first=batch_first,\n",
    "                output_size=out_size\n",
    "            )\n",
    "            for _ in range(num_nodes)\n",
    "        ]\n",
    "\n",
    "        self.linear = nn.Linear(in_features=out_size, out_features=1)\n",
    "        self.relu = nn.ReLU()\n",
    "\n",
    "    def forward(self, inputs):\n",
    "        batch_size = inputs.size(0) if self.batch_first else inputs.size(1) \n",
    "        num_steps = inputs.size(1) if self.batch_first else inputs.size(0)\n",
    "        "
   ]
  }
 ],
 "metadata": {
  "kernelspec": {
   "display_name": "Python 3",
   "language": "python",
   "name": "python3"
  },
  "language_info": {
   "name": "python",
   "version": "3.8.10"
  }
 },
 "nbformat": 4,
 "nbformat_minor": 2
}
