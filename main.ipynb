{
 "cells": [
  {
   "cell_type": "code",
   "execution_count": 1,
   "metadata": {},
   "outputs": [],
   "source": [
    "import torch\n",
    "import torch.nn as nn\n",
    "from torch.nn import LSTM\n",
    "import matplotlib.pyplot as plt\n",
    "from gen_data.data_generation import load_graphs\n",
    "from torch.autograd import Variable"
   ]
  },
  {
   "cell_type": "code",
   "execution_count": 2,
   "metadata": {},
   "outputs": [],
   "source": [
    "class ColoringNN(nn.LSTM):\n",
    "    def __init__(self, in_size : int, out_size : int,\n",
    "                  hidden_size : int, num_layers : int, num_nodes : int):\n",
    "        super(ColoringNN, self).__init__(input_size=in_size, hidden_size=hidden_size)\n",
    "\n",
    "        self.in_size = in_size\n",
    "        self.out_size = out_size\n",
    "        self.hidden_size = hidden_size\n",
    "        self.num_layers = num_layers\n",
    "        self.num_nodes = num_nodes\n",
    "\n",
    "        self.cells = nn.ModuleList([\n",
    "            LSTM(\n",
    "                input_size = in_size,\n",
    "                hidden_size=hidden_size,\n",
    "                num_layers=num_layers,\n",
    "                batch_first=True\n",
    "            )\n",
    "            for _ in range(num_nodes)\n",
    "        ])\n",
    "\n",
    "        self.linear = nn.Linear(in_features=hidden_size, out_features=1)\n",
    "        self.relu = nn.ReLU()\n",
    "\n",
    "    def forward(self, inputs):\n",
    "        outputs = []\n",
    "\n",
    "        for i, lstm in enumerate(self.cells):\n",
    "            out, _ = lstm(inputs[:, [i], :])\n",
    "\n",
    "            out = self.linear(out)\n",
    "            out = torch.flatten(input=out, start_dim=0)\n",
    "            out = self.relu(out)\n",
    "\n",
    "            outputs.append(out)\n",
    "\n",
    "        return torch.cat(outputs, dim=1)\n",
    "        "
   ]
  },
  {
   "cell_type": "code",
   "execution_count": 3,
   "metadata": {},
   "outputs": [],
   "source": [
    "TRAIN_SIZE = 10000\n",
    "TEST_SIZE = 2000\n",
    "\n",
    "RANDOM = True # if choosing the random dataset, false otherwise\n",
    "RANDOM_SHUFFLE = True # if shuffling the nodes at loading, False for not shuffling\n",
    "\n",
    "HIDDEN_SIZE = 128\n",
    "BATCH_SIZE = 256\n",
    "\n",
    "LEARNING_RATE = 0.0001\n",
    "EPOCHS = 200\n",
    "IN_SIZE = 100\n",
    "OUT_SIZE = 100\n",
    "HIDDEN_SIZE = 1024\n",
    "NUM_NODES = 100"
   ]
  },
  {
   "cell_type": "code",
   "execution_count": 4,
   "metadata": {},
   "outputs": [],
   "source": [
    "class CustomDataset(torch.utils.data.Dataset):\n",
    "    def __init__(self, data, labels, transform=None):\n",
    "        self.data = data\n",
    "        self.labels = labels\n",
    "        self.transform = transform\n",
    "\n",
    "    def __len__(self):\n",
    "        return len(self.data)\n",
    "\n",
    "    def __getitem__(self, idx):\n",
    "        sample = self.data[idx]\n",
    "        label = self.labels[idx]\n",
    "\n",
    "        sample = torch.tensor(sample, dtype=torch.float32)\n",
    "        label = torch.tensor(label, dtype=torch.long)\n",
    "\n",
    "        if self.transform:\n",
    "            sample = self.transform(sample)\n",
    "\n",
    "        return sample, label"
   ]
  },
  {
   "cell_type": "code",
   "execution_count": 5,
   "metadata": {},
   "outputs": [],
   "source": [
    "train_data, train_colorings = load_graphs(\"train_random\" if RANDOM else \"train_clique\", TRAIN_SIZE)\n",
    "train_loader = torch.utils.data.DataLoader(dataset=CustomDataset(data=train_data, labels=train_colorings), batch_size=BATCH_SIZE, shuffle=True)"
   ]
  },
  {
   "cell_type": "code",
   "execution_count": 6,
   "metadata": {},
   "outputs": [],
   "source": [
    "test_data, test_colorings = load_graphs(\"test_random\" if RANDOM else \"test_clique\", TEST_SIZE)\n",
    "\n",
    "test_loader = torch.utils.data.DataLoader(dataset=CustomDataset(data=test_data, labels=test_colorings), batch_size=BATCH_SIZE, shuffle=False)"
   ]
  },
  {
   "cell_type": "code",
   "execution_count": 7,
   "metadata": {},
   "outputs": [],
   "source": [
    "model = ColoringNN(in_size=IN_SIZE, out_size=OUT_SIZE, hidden_size=HIDDEN_SIZE, num_layers=3, num_nodes=NUM_NODES)\n",
    "optimizer = torch.optim.Adam(params=model.parameters(), lr=LEARNING_RATE)\n",
    "criterion = nn.MSELoss()"
   ]
  },
  {
   "cell_type": "code",
   "execution_count": 8,
   "metadata": {},
   "outputs": [],
   "source": [
    "use_cuda = torch.cuda.is_available()\n",
    "\n",
    "if use_cuda:\n",
    "    model = model.cuda()"
   ]
  },
  {
   "cell_type": "code",
   "execution_count": 9,
   "metadata": {},
   "outputs": [
    {
     "ename": "",
     "evalue": "",
     "output_type": "error",
     "traceback": [
      "\u001b[1;31mThe Kernel crashed while executing code in the current cell or a previous cell. \n",
      "\u001b[1;31mPlease review the code in the cell(s) to identify a possible cause of the failure. \n",
      "\u001b[1;31mClick <a href='https://aka.ms/vscodeJupyterKernelCrash'>here</a> for more info. \n",
      "\u001b[1;31mView Jupyter <a href='command:jupyter.viewOutput'>log</a> for further details."
     ]
    }
   ],
   "source": [
    "losses = []\n",
    "\n",
    "for epoch in range(EPOCHS):\n",
    "    model.train()\n",
    "\n",
    "    avg_loss = 0\n",
    "\n",
    "    for index, (x, target) in enumerate(train_loader):\n",
    "        optimizer.zero_grad()\n",
    "\n",
    "        if use_cuda:\n",
    "            x = x.cuda()\n",
    "            target = target.cuda()\n",
    "        \n",
    "        x = Variable(x)\n",
    "        target = Variable(target)\n",
    "\n",
    "        outputs = model(x)\n",
    "        loss = criterion(outputs, target)\n",
    "\n",
    "        loss.backward()\n",
    "        optimizer.step()\n",
    "\n",
    "        avg_loss = 0.9 * avg_loss + 0.1 * loss.item()\n",
    "\n",
    "    losses.append(avg_loss)"
   ]
  },
  {
   "cell_type": "code",
   "execution_count": null,
   "metadata": {},
   "outputs": [],
   "source": []
  }
 ],
 "metadata": {
  "kernelspec": {
   "display_name": "Python 3",
   "language": "python",
   "name": "python3"
  },
  "language_info": {
   "codemirror_mode": {
    "name": "ipython",
    "version": 3
   },
   "file_extension": ".py",
   "mimetype": "text/x-python",
   "name": "python",
   "nbconvert_exporter": "python",
   "pygments_lexer": "ipython3",
   "version": "3.8.10"
  }
 },
 "nbformat": 4,
 "nbformat_minor": 2
}
